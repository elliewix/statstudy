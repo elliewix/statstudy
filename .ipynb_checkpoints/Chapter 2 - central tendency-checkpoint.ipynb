{
 "cells": [
  {
   "cell_type": "markdown",
   "metadata": {},
   "source": [
    "Find the mean of a series of numbers."
   ]
  },
  {
   "cell_type": "code",
   "execution_count": 2,
   "metadata": {
    "collapsed": false
   },
   "outputs": [
    {
     "name": "stdout",
     "output_type": "stream",
     "text": [
      "17.5\n"
     ]
    }
   ],
   "source": [
    "nums = [17, 16, 8, 21, 25, 18]\n",
    "\n",
    "mean = sum(nums)/len(nums)\n",
    "\n",
    "print(mean)"
   ]
  },
  {
   "cell_type": "markdown",
   "metadata": {},
   "source": [
    "Find the median of a series of numbers."
   ]
  },
  {
   "cell_type": "code",
   "execution_count": 8,
   "metadata": {
    "collapsed": false
   },
   "outputs": [
    {
     "name": "stdout",
     "output_type": "stream",
     "text": [
      "[62, 65, 68, 68, 68, 69, 71, 73, 74, 77, 82]\n",
      "The median is: 69\n"
     ]
    }
   ],
   "source": [
    "temps = [62, 68, 73, 71, 82, 77, 74, 68, 65, 68, 69]\n",
    "\n",
    "temps.sort()\n",
    "\n",
    "print(temps)\n",
    "\n",
    "print(\"The median is: \", end = \"\")\n",
    "if len(temps) % 2 != 0:\n",
    "    position = int(len(temps) * .5)\n",
    "    print(temps[position])\n",
    "else:\n",
    "    position = int(len(temps) * .5)\n",
    "    med = (temps[position] + temps[position + 1]) / 2\n",
    "    print(med)"
   ]
  },
  {
   "cell_type": "markdown",
   "metadata": {},
   "source": [
    "Calculate the midrange, which is halfway between the endpoints."
   ]
  },
  {
   "cell_type": "code",
   "execution_count": 10,
   "metadata": {
    "collapsed": false
   },
   "outputs": [
    {
     "name": "stdout",
     "output_type": "stream",
     "text": [
      "79.0\n"
     ]
    }
   ],
   "source": [
    "ratings = [92, 80, 86, 76, 81, 65, 71, 96, \n",
    "           90, 62, 69, 75, 70, 83, 94, 85,\n",
    "          89, 85, 78, 73, 88, 95, 75, 80]\n",
    "\n",
    "# midrange is the mean between the min and max\n",
    "\n",
    "print( (min(ratings) + max(ratings)) / 2 )"
   ]
  },
  {
   "cell_type": "markdown",
   "metadata": {},
   "source": [
    "Calculate the mode, which is the most frequent number."
   ]
  },
  {
   "cell_type": "code",
   "execution_count": 24,
   "metadata": {
    "collapsed": false
   },
   "outputs": [
    {
     "name": "stdout",
     "output_type": "stream",
     "text": [
      "The mode using counter is: 2\n",
      "the mode using lambda is: 2\n"
     ]
    }
   ],
   "source": [
    "sales = [2, 1, 0, 2, 1, 3, 0, 2, 4, 0,\n",
    "        3, 2, 3, 4, 2, 2, 2, 4, 3, 0]\n",
    "        \n",
    "\n",
    "# do this with Counter\n",
    "from collections import Counter\n",
    "\n",
    "print(\"The mode using counter is: \", end = \"\")\n",
    "counted = Counter(sales)\n",
    "most = counted.most_common(1)\n",
    "value_of_most = most[0][0] # get the first item from results then get the first val in tuple\n",
    "print(value_of_most)\n",
    "\n",
    "# using lambda?\n",
    "\n",
    "print(\"the mode using lambda is: \", end = \"\")\n",
    "print(max(set(sales), key=sales.count))"
   ]
  },
  {
   "cell_type": "markdown",
   "metadata": {},
   "source": [
    "Handling multiple modes."
   ]
  },
  {
   "cell_type": "code",
   "execution_count": 35,
   "metadata": {
    "collapsed": false
   },
   "outputs": [
    {
     "name": "stdout",
     "output_type": "stream",
     "text": [
      "Counter({4: 3, 5: 3, 1: 1, 2: 1, 3: 1})\n",
      "The mode using counter is: [(4, 3), (5, 3), (1, 1), (2, 1), (3, 1)]\n",
      "4\n",
      "ModeResult(mode=array([4]), count=array([3]))\n"
     ]
    }
   ],
   "source": [
    "minutes = [3, 4, 2, 5, 4, 1, 5, 5, 4]\n",
    "\n",
    "counted = Counter(minutes)\n",
    "print(counted)\n",
    "most = counted.most_common()\n",
    "\n",
    "print(\"The mode using counter is: \", end = \"\")\n",
    "print(most)\n",
    "\n",
    "# counter doesn't work well for this\n",
    "\n",
    "print(max(set(minutes), key=minutes.count))\n",
    "\n",
    "# neither does the lambda\n",
    "\n",
    "# let's try a real mode function\n",
    "\n",
    "from scipy.stats import mode\n",
    "\n",
    "print(mode(minutes))\n",
    "\n",
    "# all of these are crap?"
   ]
  },
  {
   "cell_type": "markdown",
   "metadata": {},
   "source": [
    "Percentile:\n",
    "\n",
    "* sort the values from least to greatest\n",
    "* calculate the n% position, round up to next int if float\n",
    "* find that value"
   ]
  },
  {
   "cell_type": "code",
   "execution_count": 61,
   "metadata": {
    "collapsed": false
   },
   "outputs": [
    {
     "name": "stdout",
     "output_type": "stream",
     "text": [
      "[232, 249, 257, 258, 305, 372, 410, 467, 1194]\n",
      "[('Florida', 257)]\n"
     ]
    }
   ],
   "source": [
    "btus = {'Alabama': 467, 'Alaska': 1194, \n",
    "        'Arizona': 249, 'Arkansas': 410,\n",
    "        'California': 232, 'Colorado': 305,\n",
    "        'Connecticut': 258, 'Delaware': 372,\n",
    "        'Florida': 257 }\n",
    "\n",
    "values = list(btus.values())\n",
    "values.sort()\n",
    "\n",
    "print(values)\n",
    "\n",
    "length = len(values)\n",
    "\n",
    "# we want 30th perccentile value of this\n",
    "\n",
    "percentile_pos = round(length * .3) # per directions, round up to nearest int\n",
    "percentile_pos -= 1 # because indexing a 0 fucks us all\n",
    "\n",
    "percentile = values[percentile_pos ]\n",
    "\n",
    "results = [(key, value) for key, value in btus.items() if value == percentile]\n",
    "\n",
    "print(results)"
   ]
  },
  {
   "cell_type": "code",
   "execution_count": 80,
   "metadata": {
    "collapsed": false
   },
   "outputs": [
    {
     "name": "stdout",
     "output_type": "stream",
     "text": [
      "[('Houston', 2.21)]\n"
     ]
    }
   ],
   "source": [
    "pops = {'New York': 8.27, 'Los Angeles': 3.83,\n",
    "        'Chicago': 2.84, 'Houston': 2.21, \n",
    "        'Phoenix': 1.55, 'Philadelphia': 1.45, \n",
    "        'San Antonio': 1.33, 'San Diego': 1.27, \n",
    "        'Dallas': 1.24, 'San Jose': 0.94, 'Detroit': 0.92}\n",
    "\n",
    "import math\n",
    "\n",
    "def percentile(data_dict, decimal_perc):\n",
    "    \"\"\"Pass this a dictionary of values and a decimal percentage.\n",
    "    Returns list of key, value tuples of results\"\"\"\n",
    "    length = len(data_dict)\n",
    "    # round won't work! need ceil.\n",
    "    perc_pos = int(math.ceil(length * decimal_perc)) - 1 # less 1 becuase Python\n",
    "    values = list(data_dict.values())\n",
    "    values.sort()\n",
    "    perc_value = values[perc_pos]\n",
    "    #print(values, perc_pos, perc_value)\n",
    "    results = [(key, value) for key, value in data_dict.items() if value == perc_value]\n",
    "    return results\n",
    "\n",
    "print(percentile(pops, .65))\n"
   ]
  },
  {
   "cell_type": "markdown",
   "metadata": {},
   "source": [
    "Calculate percentile rank.\n",
    "\n",
    "percentile = ((number of values less than the number in question) +.5 (why??) / n * 100"
   ]
  },
  {
   "cell_type": "code",
   "execution_count": 88,
   "metadata": {
    "collapsed": false
   },
   "outputs": [
    {
     "data": {
      "text/plain": [
       "76.67"
      ]
     },
     "execution_count": 88,
     "metadata": {},
     "output_type": "execute_result"
    }
   ],
   "source": [
    "pressures = [103, 110, 113, 114, 115, 116, 120, 121,\n",
    "            121, 122, 125, 126, 130, 130, 136]\n",
    "\n",
    "def get_rank(data_list, value):\n",
    "    \"\"\"Pass a list of data and a value in question,\n",
    "    returns the percentile rank for that value\"\"\"\n",
    "    \n",
    "    data_list.sort()\n",
    "    pos = data_list.index(value)\n",
    "    # so pos is naturally n - 1 due to indexing of zero\n",
    "    rank = (pos + .5) / len(data_list) * 100\n",
    "    return round(rank, 2)\n",
    "    \n",
    "get_rank(pressures, 126)"
   ]
  },
  {
   "cell_type": "code",
   "execution_count": 96,
   "metadata": {
    "collapsed": false
   },
   "outputs": [
    {
     "name": "stdout",
     "output_type": "stream",
     "text": [
      "66.0\n",
      "87.5\n"
     ]
    }
   ],
   "source": [
    "english_exams = [75, 76, 78,78, 80, 80, 80, 80, 81, 81, 84, 85, 85,\n",
    "                85, 86, 86, 88, 90, 90, 91, 92, 94, 95, 96, 98]\n",
    "\n",
    "chem_exams = [54, 56, 59, 60, 60, 63, 64, 65, 68, 68, 69, 70, 71,\n",
    "             72, 74, 75, 75, 76, 78, 80]\n",
    "\n",
    "print(get_rank(english_exams, 88))\n",
    "print(get_rank(chem_exams, 76))"
   ]
  },
  {
   "cell_type": "markdown",
   "metadata": {
    "collapsed": true
   },
   "source": [
    "Weighted means, averaging using different weights.  Weighted mean is mean * n group size."
   ]
  },
  {
   "cell_type": "code",
   "execution_count": 108,
   "metadata": {
    "collapsed": false
   },
   "outputs": [
    {
     "name": "stdout",
     "output_type": "stream",
     "text": [
      "83.19589041095891\n",
      "83.1958904109589\n"
     ]
    }
   ],
   "source": [
    "class_scores = {'8:00': {'num_students': 20, 'mean_score': 82.4},\n",
    "                '9:00':  {'num_students': 24, 'mean_score': 78.9},\n",
    "                '10:00':  {'num_students': 29, 'mean_score': 87.3}}\n",
    "\n",
    "# this is unreadable\n",
    "\n",
    "print(\n",
    "    sum([data['num_students'] * data['mean_score'] for data in class_scores.values()]) /\n",
    "    sum([data['num_students'] for data in class_scores.values()])\n",
    ")\n",
    "\n",
    "# ahh, and this is how I'm used to doing it! makes more sense but does require extra steps\n",
    "# but maybe is slightly more readable?\n",
    "\n",
    "total_students = sum([data['num_students'] for data in class_scores.values()])\n",
    "\n",
    "for name, data in class_scores.items():\n",
    "    class_scores[name]['weighted_avg'] = class_scores[name]['mean_score'] * (data['num_students'] / total_students)\n",
    "    \n",
    "print(sum([data['weighted_avg'] for data in class_scores.values()]))"
   ]
  },
  {
   "cell_type": "code",
   "execution_count": 105,
   "metadata": {
    "collapsed": false
   },
   "outputs": [
    {
     "data": {
      "text/plain": [
       "{'10:00': {'mean_score': 87.3,\n",
       "  'num_students': 29,\n",
       "  'weighted_avg': 34.68082191780822},\n",
       " '8:00': {'mean_score': 82.4,\n",
       "  'num_students': 20,\n",
       "  'weighted_avg': 22.575342465753426},\n",
       " '9:00': {'mean_score': 78.9,\n",
       "  'num_students': 24,\n",
       "  'weighted_avg': 25.93972602739726}}"
      ]
     },
     "execution_count": 105,
     "metadata": {},
     "output_type": "execute_result"
    }
   ],
   "source": [
    "class_scores"
   ]
  },
  {
   "cell_type": "code",
   "execution_count": null,
   "metadata": {
    "collapsed": true
   },
   "outputs": [],
   "source": []
  },
  {
   "cell_type": "code",
   "execution_count": null,
   "metadata": {
    "collapsed": true
   },
   "outputs": [],
   "source": []
  }
 ],
 "metadata": {
  "anaconda-cloud": {},
  "kernelspec": {
   "display_name": "Python [default]",
   "language": "python",
   "name": "python3"
  },
  "language_info": {
   "codemirror_mode": {
    "name": "ipython",
    "version": 3
   },
   "file_extension": ".py",
   "mimetype": "text/x-python",
   "name": "python",
   "nbconvert_exporter": "python",
   "pygments_lexer": "ipython3",
   "version": "3.5.2"
  }
 },
 "nbformat": 4,
 "nbformat_minor": 1
}
